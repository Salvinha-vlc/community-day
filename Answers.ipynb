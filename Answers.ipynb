{
 "cells": [
  {
   "cell_type": "markdown",
   "metadata": {},
   "source": [
    "Below are just the answers to the questions. In order to see the code and the figures, please refer to files (note1, "
   ]
  },
  {
   "cell_type": "markdown",
   "metadata": {},
   "source": [
    "Question 1\n",
    "\n",
    "Hypothesis contrast \n",
    "\n",
    "HO. Cholera and dehydration are independent, hence we can't assume cholera causing dehydration\n",
    "\n",
    "H1. Cholera and dehydration are dependent, so we can say cholera causes dehydration (applying common sense)\n",
    "\n",
    "Results:\n",
    "There is enough evidence to reject the H0, p-value 0.0 is < than the chosen alpha 0.05, so applying medical sense we can say that cholera causes dehydration.\n",
    "\n",
    "There is also statistical significance to state that vomit color, blood type o, poo consistency and exposure type depend on having the cholera disease or not. Which it allows us to trace additional cause-effect relationships with our target variable. For instance, we are confident to state that poo consistency and vomit color changes with the cholera disease."
   ]
  },
  {
   "cell_type": "markdown",
   "metadata": {},
   "source": [
    "Question 2\n",
    "\n"
   ]
  }
 ],
 "metadata": {
  "kernelspec": {
   "display_name": "Python 3",
   "language": "python",
   "name": "python3"
  },
  "language_info": {
   "codemirror_mode": {
    "name": "ipython",
    "version": 3
   },
   "file_extension": ".py",
   "mimetype": "text/x-python",
   "name": "python",
   "nbconvert_exporter": "python",
   "pygments_lexer": "ipython3",
   "version": "3.7.3"
  }
 },
 "nbformat": 4,
 "nbformat_minor": 2
}
