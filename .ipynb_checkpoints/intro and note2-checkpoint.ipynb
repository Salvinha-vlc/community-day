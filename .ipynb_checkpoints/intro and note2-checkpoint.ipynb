{
 "cells": [
  {
   "cell_type": "markdown",
   "metadata": {},
   "source": [
    "### The main questions that you need to investigate are:\n",
    "\n",
    "- Does cholera cause dehydration?\n",
    "\n",
    "\n",
    "- Is the gastric acid index correlated to feces consistency and vomit color?"
   ]
  },
  {
   "cell_type": "markdown",
   "metadata": {},
   "source": [
    "# Intro"
   ]
  },
  {
   "cell_type": "code",
   "execution_count": 98,
   "metadata": {},
   "outputs": [],
   "source": [
    "%matplotlib inline\n",
    "\n",
    "import matplotlib.pyplot as plt\n",
    "from matplotlib import style\n",
    "import pandas as pd\n",
    "import numpy as np\n",
    "import os\n",
    "import seaborn as sns\n",
    "from scipy import stats\n",
    "import math as m\n",
    "\n",
    "sns.set()"
   ]
  },
  {
   "cell_type": "code",
   "execution_count": 58,
   "metadata": {},
   "outputs": [],
   "source": [
    "redye = ['#C61437', '#3F33FF']"
   ]
  },
  {
   "cell_type": "code",
   "execution_count": 30,
   "metadata": {},
   "outputs": [],
   "source": [
    "data = pd.read_csv('data/cholera-dataset.csv').drop('Unnamed: 0', axis=1)"
   ]
  },
  {
   "cell_type": "code",
   "execution_count": 31,
   "metadata": {},
   "outputs": [
    {
     "data": {
      "text/html": [
       "<div>\n",
       "<style scoped>\n",
       "    .dataframe tbody tr th:only-of-type {\n",
       "        vertical-align: middle;\n",
       "    }\n",
       "\n",
       "    .dataframe tbody tr th {\n",
       "        vertical-align: top;\n",
       "    }\n",
       "\n",
       "    .dataframe thead th {\n",
       "        text-align: right;\n",
       "    }\n",
       "</style>\n",
       "<table border=\"1\" class=\"dataframe\">\n",
       "  <thead>\n",
       "    <tr style=\"text-align: right;\">\n",
       "      <th></th>\n",
       "      <th>age</th>\n",
       "      <th>sex</th>\n",
       "      <th>dh</th>\n",
       "      <th>rbp</th>\n",
       "      <th>c</th>\n",
       "      <th>seizures</th>\n",
       "      <th>vc</th>\n",
       "      <th>ia</th>\n",
       "      <th>bt0</th>\n",
       "      <th>fc</th>\n",
       "      <th>exposed_to</th>\n",
       "      <th>fever</th>\n",
       "      <th>cholera</th>\n",
       "    </tr>\n",
       "  </thead>\n",
       "  <tbody>\n",
       "    <tr>\n",
       "      <th>0</th>\n",
       "      <td>63</td>\n",
       "      <td>Male</td>\n",
       "      <td>3</td>\n",
       "      <td>145</td>\n",
       "      <td>233.0</td>\n",
       "      <td>1</td>\n",
       "      <td>0</td>\n",
       "      <td>150</td>\n",
       "      <td>0</td>\n",
       "      <td>0</td>\n",
       "      <td>0</td>\n",
       "      <td>0</td>\n",
       "      <td>1</td>\n",
       "    </tr>\n",
       "    <tr>\n",
       "      <th>1</th>\n",
       "      <td>37</td>\n",
       "      <td>Male</td>\n",
       "      <td>2</td>\n",
       "      <td>130</td>\n",
       "      <td>250.0</td>\n",
       "      <td>0</td>\n",
       "      <td>1</td>\n",
       "      <td>187</td>\n",
       "      <td>0</td>\n",
       "      <td>0</td>\n",
       "      <td>0</td>\n",
       "      <td>0</td>\n",
       "      <td>1</td>\n",
       "    </tr>\n",
       "    <tr>\n",
       "      <th>2</th>\n",
       "      <td>41</td>\n",
       "      <td>Female</td>\n",
       "      <td>1</td>\n",
       "      <td>130</td>\n",
       "      <td>204.0</td>\n",
       "      <td>0</td>\n",
       "      <td>0</td>\n",
       "      <td>172</td>\n",
       "      <td>0</td>\n",
       "      <td>2</td>\n",
       "      <td>0</td>\n",
       "      <td>0</td>\n",
       "      <td>1</td>\n",
       "    </tr>\n",
       "    <tr>\n",
       "      <th>3</th>\n",
       "      <td>56</td>\n",
       "      <td>Male</td>\n",
       "      <td>1</td>\n",
       "      <td>120</td>\n",
       "      <td>236.0</td>\n",
       "      <td>0</td>\n",
       "      <td>1</td>\n",
       "      <td>178</td>\n",
       "      <td>0</td>\n",
       "      <td>2</td>\n",
       "      <td>0</td>\n",
       "      <td>0</td>\n",
       "      <td>1</td>\n",
       "    </tr>\n",
       "    <tr>\n",
       "      <th>4</th>\n",
       "      <td>57</td>\n",
       "      <td>Female</td>\n",
       "      <td>0</td>\n",
       "      <td>120</td>\n",
       "      <td>354.0</td>\n",
       "      <td>0</td>\n",
       "      <td>1</td>\n",
       "      <td>163</td>\n",
       "      <td>1</td>\n",
       "      <td>2</td>\n",
       "      <td>0</td>\n",
       "      <td>0</td>\n",
       "      <td>1</td>\n",
       "    </tr>\n",
       "  </tbody>\n",
       "</table>\n",
       "</div>"
      ],
      "text/plain": [
       "   age     sex  dh  rbp      c  seizures  vc   ia  bt0  fc  exposed_to  fever  \\\n",
       "0   63    Male   3  145  233.0         1   0  150    0   0           0      0   \n",
       "1   37    Male   2  130  250.0         0   1  187    0   0           0      0   \n",
       "2   41  Female   1  130  204.0         0   0  172    0   2           0      0   \n",
       "3   56    Male   1  120  236.0         0   1  178    0   2           0      0   \n",
       "4   57  Female   0  120  354.0         0   1  163    1   2           0      0   \n",
       "\n",
       "   cholera  \n",
       "0        1  \n",
       "1        1  \n",
       "2        1  \n",
       "3        1  \n",
       "4        1  "
      ]
     },
     "execution_count": 31,
     "metadata": {},
     "output_type": "execute_result"
    }
   ],
   "source": [
    "data.head()"
   ]
  },
  {
   "cell_type": "code",
   "execution_count": 32,
   "metadata": {},
   "outputs": [
    {
     "name": "stdout",
     "output_type": "stream",
     "text": [
      "<class 'pandas.core.frame.DataFrame'>\n",
      "RangeIndex: 303 entries, 0 to 302\n",
      "Data columns (total 13 columns):\n",
      "age           303 non-null int64\n",
      "sex           303 non-null object\n",
      "dh            303 non-null int64\n",
      "rbp           303 non-null int64\n",
      "c             298 non-null float64\n",
      "seizures      303 non-null int64\n",
      "vc            303 non-null int64\n",
      "ia            303 non-null int64\n",
      "bt0           303 non-null int64\n",
      "fc            303 non-null int64\n",
      "exposed_to    303 non-null int64\n",
      "fever         303 non-null int64\n",
      "cholera       303 non-null int64\n",
      "dtypes: float64(1), int64(11), object(1)\n",
      "memory usage: 30.9+ KB\n"
     ]
    }
   ],
   "source": [
    "data.info()"
   ]
  },
  {
   "cell_type": "code",
   "execution_count": 33,
   "metadata": {},
   "outputs": [],
   "source": [
    "columns_name = ['age', 'sex', 'dehydration', 'blood_pressure', 'colestherol', 'seizures', 'vomit_color', \\\n",
    "               'gastric_acid', 'blood_type_o','poo_consistency','exposure_type', 'fever','cholera' ]"
   ]
  },
  {
   "cell_type": "code",
   "execution_count": 34,
   "metadata": {},
   "outputs": [
    {
     "data": {
      "text/html": [
       "<div>\n",
       "<style scoped>\n",
       "    .dataframe tbody tr th:only-of-type {\n",
       "        vertical-align: middle;\n",
       "    }\n",
       "\n",
       "    .dataframe tbody tr th {\n",
       "        vertical-align: top;\n",
       "    }\n",
       "\n",
       "    .dataframe thead th {\n",
       "        text-align: right;\n",
       "    }\n",
       "</style>\n",
       "<table border=\"1\" class=\"dataframe\">\n",
       "  <thead>\n",
       "    <tr style=\"text-align: right;\">\n",
       "      <th></th>\n",
       "      <th>age</th>\n",
       "      <th>sex</th>\n",
       "      <th>dehydration</th>\n",
       "      <th>blood_pressure</th>\n",
       "      <th>colestherol</th>\n",
       "      <th>seizures</th>\n",
       "      <th>vomit_color</th>\n",
       "      <th>gastric_acid</th>\n",
       "      <th>blood_type_o</th>\n",
       "      <th>poo_consistency</th>\n",
       "      <th>exposure_type</th>\n",
       "      <th>fever</th>\n",
       "      <th>cholera</th>\n",
       "    </tr>\n",
       "  </thead>\n",
       "  <tbody>\n",
       "    <tr>\n",
       "      <th>0</th>\n",
       "      <td>63</td>\n",
       "      <td>Male</td>\n",
       "      <td>3</td>\n",
       "      <td>145</td>\n",
       "      <td>233.0</td>\n",
       "      <td>1</td>\n",
       "      <td>0</td>\n",
       "      <td>150</td>\n",
       "      <td>0</td>\n",
       "      <td>0</td>\n",
       "      <td>0</td>\n",
       "      <td>0</td>\n",
       "      <td>1</td>\n",
       "    </tr>\n",
       "    <tr>\n",
       "      <th>1</th>\n",
       "      <td>37</td>\n",
       "      <td>Male</td>\n",
       "      <td>2</td>\n",
       "      <td>130</td>\n",
       "      <td>250.0</td>\n",
       "      <td>0</td>\n",
       "      <td>1</td>\n",
       "      <td>187</td>\n",
       "      <td>0</td>\n",
       "      <td>0</td>\n",
       "      <td>0</td>\n",
       "      <td>0</td>\n",
       "      <td>1</td>\n",
       "    </tr>\n",
       "    <tr>\n",
       "      <th>2</th>\n",
       "      <td>41</td>\n",
       "      <td>Female</td>\n",
       "      <td>1</td>\n",
       "      <td>130</td>\n",
       "      <td>204.0</td>\n",
       "      <td>0</td>\n",
       "      <td>0</td>\n",
       "      <td>172</td>\n",
       "      <td>0</td>\n",
       "      <td>2</td>\n",
       "      <td>0</td>\n",
       "      <td>0</td>\n",
       "      <td>1</td>\n",
       "    </tr>\n",
       "    <tr>\n",
       "      <th>3</th>\n",
       "      <td>56</td>\n",
       "      <td>Male</td>\n",
       "      <td>1</td>\n",
       "      <td>120</td>\n",
       "      <td>236.0</td>\n",
       "      <td>0</td>\n",
       "      <td>1</td>\n",
       "      <td>178</td>\n",
       "      <td>0</td>\n",
       "      <td>2</td>\n",
       "      <td>0</td>\n",
       "      <td>0</td>\n",
       "      <td>1</td>\n",
       "    </tr>\n",
       "    <tr>\n",
       "      <th>4</th>\n",
       "      <td>57</td>\n",
       "      <td>Female</td>\n",
       "      <td>0</td>\n",
       "      <td>120</td>\n",
       "      <td>354.0</td>\n",
       "      <td>0</td>\n",
       "      <td>1</td>\n",
       "      <td>163</td>\n",
       "      <td>1</td>\n",
       "      <td>2</td>\n",
       "      <td>0</td>\n",
       "      <td>0</td>\n",
       "      <td>1</td>\n",
       "    </tr>\n",
       "  </tbody>\n",
       "</table>\n",
       "</div>"
      ],
      "text/plain": [
       "   age     sex  dehydration  blood_pressure  colestherol  seizures  \\\n",
       "0   63    Male            3             145        233.0         1   \n",
       "1   37    Male            2             130        250.0         0   \n",
       "2   41  Female            1             130        204.0         0   \n",
       "3   56    Male            1             120        236.0         0   \n",
       "4   57  Female            0             120        354.0         0   \n",
       "\n",
       "   vomit_color  gastric_acid  blood_type_o  poo_consistency  exposure_type  \\\n",
       "0            0           150             0                0              0   \n",
       "1            1           187             0                0              0   \n",
       "2            0           172             0                2              0   \n",
       "3            1           178             0                2              0   \n",
       "4            1           163             1                2              0   \n",
       "\n",
       "   fever  cholera  \n",
       "0      0        1  \n",
       "1      0        1  \n",
       "2      0        1  \n",
       "3      0        1  \n",
       "4      0        1  "
      ]
     },
     "execution_count": 34,
     "metadata": {},
     "output_type": "execute_result"
    }
   ],
   "source": [
    "data.columns = columns_name\n",
    "data.head()"
   ]
  },
  {
   "cell_type": "code",
   "execution_count": 63,
   "metadata": {},
   "outputs": [],
   "source": [
    "data['sex_type'] = np.where(data.sex == 'Male', 1,0)"
   ]
  },
  {
   "cell_type": "code",
   "execution_count": 72,
   "metadata": {
    "scrolled": false
   },
   "outputs": [
    {
     "data": {
      "image/png": "[encoded data removed]",
      "text/plain": [
       "<Figure size 1440x1008 with 12 Axes>"
      ]
     },
     "metadata": {
      "needs_background": "light"
     },
     "output_type": "display_data"
    }
   ],
   "source": [
    "fig, [ax1, ax2, ax3, ax4] = plt.subplots(4,3, figsize=[20,14])\n",
    "fig.subplots_adjust(hspace=0.3)\n",
    "fig.suptitle('Frequency Distributions', fontweight = 900, fontsize = 20)\n",
    "\n",
    "ax1[0].hist(data.age)\n",
    "ax1[0].set_xlabel('age',fontweight = 900, fontsize = 14)\n",
    "ax1[0].set_ylabel('Frequency',fontweight = 900, fontsize = 14)\n",
    "\n",
    "ax1[1].hist(data.sex_type)\n",
    "ax1[1].set_xlabel('sex',fontweight = 900, fontsize = 14)\n",
    "ax1[1].set_ylabel('Frequency',fontweight = 900, fontsize = 14)\n",
    "ax1[1].set_xticks(np.arange(0, 2,1))\n",
    "\n",
    "ax1[2].hist(data.dehydration)\n",
    "ax1[2].set_xlabel('dehydration',fontweight = 900, fontsize = 14)\n",
    "ax1[2].set_ylabel('Frequency',fontweight = 900, fontsize = 14)\n",
    "\n",
    "ax2[0].hist(data.blood_pressure)\n",
    "ax2[0].set_xlabel('blood_pressure',fontweight = 900, fontsize = 14)\n",
    "ax2[0].set_ylabel('Frequency',fontweight = 900, fontsize = 14)\n",
    "\n",
    "ax2[1].hist(data.colestherol)\n",
    "ax2[1].set_xlabel('colestherol',fontweight = 900, fontsize = 14)\n",
    "ax2[1].set_ylabel('Frequency',fontweight = 900, fontsize = 14)\n",
    "\n",
    "ax2[2].hist(data.seizures)\n",
    "ax2[2].set_xlabel('seizures',fontweight = 900, fontsize = 14)\n",
    "ax2[2].set_ylabel('Frequency',fontweight = 900, fontsize = 14)\n",
    "ax2[2].set_xticks(np.arange(0, 2,1))\n",
    "\n",
    "ax3[0].hist(data.vomit_color)\n",
    "ax3[0].set_xlabel('vomit_color',fontweight = 900, fontsize = 14)\n",
    "ax3[0].set_ylabel('Frequency',fontweight = 900, fontsize = 14)\n",
    "ax3[0].set_xticks(np.arange(0, 3,1))\n",
    "\n",
    "ax3[1].hist(data.gastric_acid)\n",
    "ax3[1].set_xlabel('gastric_acid',fontweight = 900, fontsize = 14)\n",
    "ax3[1].set_ylabel('Frequency',fontweight = 900, fontsize = 14)\n",
    "\n",
    "ax3[2].hist(data.blood_type_o)\n",
    "ax3[2].set_xlabel('blood_type_o',fontweight = 900, fontsize = 14)\n",
    "ax3[2].set_ylabel('Frequency',fontweight = 900, fontsize = 14)\n",
    "ax3[2].set_xticks(np.arange(0, 2,1))\n",
    "\n",
    "ax4[0].hist(data.poo_consistency)\n",
    "ax4[0].set_xlabel('poo_consistency',fontweight = 900, fontsize = 14)\n",
    "ax4[0].set_ylabel('Frequency',fontweight = 900, fontsize = 14)\n",
    "ax4[0].set_xticks(np.arange(0, 3,1))\n",
    "\n",
    "ax4[1].hist(data.exposure_type)\n",
    "ax4[1].set_xlabel('exposure_type',fontweight = 900, fontsize = 14)\n",
    "ax4[1].set_ylabel('Frequency',fontweight = 900, fontsize = 14)\n",
    "\n",
    "ax4[2].hist(data.fever)\n",
    "ax4[2].set_xlabel('fever',fontweight = 900, fontsize = 14)\n",
    "ax4[2].set_ylabel('Frequency',fontweight = 900, fontsize = 14)\n",
    "ax4[2].set_xticks(np.arange(0, 2,1))\n",
    "\n",
    "plt.show()\n",
    "\n"
   ]
  },
  {
   "cell_type": "code",
   "execution_count": null,
   "metadata": {},
   "outputs": [],
   "source": [
    "'age', 'sex', 'dehydration', 'blood_pressure', 'colestherol', 'seizures', 'vomit_color', \\\n",
    "               'gastric_acid', 'blood_type_o','poo_consistency','exposure_type', 'fever','cholera'"
   ]
  },
  {
   "cell_type": "code",
   "execution_count": 77,
   "metadata": {},
   "outputs": [],
   "source": [
    "data_numeric = data[['age','blood_pressure', 'colestherol','gastric_acid']]"
   ]
  },
  {
   "cell_type": "code",
   "execution_count": 78,
   "metadata": {},
   "outputs": [],
   "source": [
    "corr = data_numeric.corr()"
   ]
  },
  {
   "cell_type": "code",
   "execution_count": 79,
   "metadata": {},
   "outputs": [],
   "source": [
    "mask = np.zeros_like(corr, dtype=np.bool)\n",
    "mask[np.triu_indices_from(mask)] = True"
   ]
  },
  {
   "cell_type": "code",
   "execution_count": 85,
   "metadata": {},
   "outputs": [
    {
     "data": {
      "image/png": "[encoded data removed]",
      "text/plain": [
       "<Figure size 720x720 with 2 Axes>"
      ]
     },
     "metadata": {
      "needs_background": "light"
     },
     "output_type": "display_data"
    }
   ],
   "source": [
    "f, ax = plt.subplots(figsize=(10, 10))\n",
    "cmap = sns.diverging_palette(220, 10, as_cmap=True)\n",
    "sns.heatmap(corr, mask=mask, cmap=cmap, vmax=.3, center=0,\n",
    "            square=True, linewidths=.5, cbar_kws={\"shrink\": .5})\n",
    "\n",
    "ax.tick_params(axis=\"x\", labelsize=15, rotation = 45)\n",
    "ax.tick_params(axis=\"y\", labelsize=15, rotation = 0)\n"
   ]
  },
  {
   "cell_type": "code",
   "execution_count": null,
   "metadata": {},
   "outputs": [],
   "source": [
    "data_numeric = data[['age','blood_pressure', 'colestherol','gastric_acid']]"
   ]
  },
  {
   "cell_type": "code",
   "execution_count": 88,
   "metadata": {},
   "outputs": [],
   "source": [
    "data_cholera = data[data['cholera'] == 1]\n",
    "data_no_cholera = data[data['cholera'] == 0]"
   ]
  },
  {
   "cell_type": "code",
   "execution_count": 96,
   "metadata": {},
   "outputs": [
    {
     "name": "stdout",
     "output_type": "stream",
     "text": [
      "2891.2108350586614\n",
      "2477.2304466230935\n"
     ]
    }
   ],
   "source": [
    "var_colest_cholera = data_cholera['colestherol'].var()\n",
    "var_colest_no_cholera = data_no_cholera['colestherol'].var()\n",
    "\n",
    "print(var_colest_cholera)\n",
    "print(var_colest_no_cholera)"
   ]
  },
  {
   "cell_type": "markdown",
   "metadata": {},
   "source": [
    "# Question 2"
   ]
  },
  {
   "cell_type": "markdown",
   "metadata": {},
   "source": [
    "## Hypothesis testing with numerical variables"
   ]
  },
  {
   "cell_type": "markdown",
   "metadata": {},
   "source": [
    "#### Blood pressure\n",
    "\n",
    "Z = mean blood pressure with cholera - mean blood pressure without cholera\n",
    "alpha = 0.05\n",
    "\n",
    "#H0: Mz = 0\n",
    "#Ha: Mz != 0 "
   ]
  },
  {
   "cell_type": "code",
   "execution_count": 108,
   "metadata": {},
   "outputs": [
    {
     "data": {
      "text/plain": [
       "Ttest_indResult(statistic=2.5412927171039, pvalue=0.011546059200233312)"
      ]
     },
     "execution_count": 108,
     "metadata": {},
     "output_type": "execute_result"
    }
   ],
   "source": [
    "stats.ttest_ind(data_no_cholera['blood_pressure'], data_cholera['blood_pressure'], equal_var = False)"
   ]
  },
  {
   "cell_type": "markdown",
   "metadata": {},
   "source": [
    "#### Gastric acid\n",
    "\n",
    "Z = mean blood gastric acid with cholera - mean blood gastric acid without cholera\n",
    "alpha = 0.05\n",
    "\n",
    "#H0: Mz = 0\n",
    "#Ha: Mz != 0 "
   ]
  },
  {
   "cell_type": "code",
   "execution_count": 109,
   "metadata": {},
   "outputs": [
    {
     "data": {
      "text/plain": [
       "Ttest_indResult(statistic=-7.953039312035018, pvalue=5.018595443073019e-14)"
      ]
     },
     "execution_count": 109,
     "metadata": {},
     "output_type": "execute_result"
    }
   ],
   "source": [
    "stats.ttest_ind(data_no_cholera['gastric_acid'], data_cholera['gastric_acid'], equal_var = False)"
   ]
  },
  {
   "cell_type": "markdown",
   "metadata": {},
   "source": [
    "#### Age\n",
    "\n",
    "Z = mean blood age with cholera - mean age without cholera\n",
    "alpha = 0.05\n",
    "\n",
    "#H0: Mz = 0\n",
    "#Ha: Mz != 0 "
   ]
  },
  {
   "cell_type": "code",
   "execution_count": 113,
   "metadata": {},
   "outputs": [
    {
     "data": {
      "text/plain": [
       "Ttest_indResult(statistic=3.5088609641246595, pvalue=0.0005187581148999044)"
      ]
     },
     "execution_count": 113,
     "metadata": {},
     "output_type": "execute_result"
    }
   ],
   "source": [
    "stats.ttest_ind(data_no_cholera['age'], data_cholera['age'], equal_var = True)"
   ]
  },
  {
   "cell_type": "code",
   "execution_count": 144,
   "metadata": {},
   "outputs": [],
   "source": [
    "data_3 = data.dropna()"
   ]
  },
  {
   "cell_type": "code",
   "execution_count": 147,
   "metadata": {},
   "outputs": [
    {
     "name": "stderr",
     "output_type": "stream",
     "text": [
      "/Users/abreualberto91/anaconda3/envs/ironhack/lib/python3.7/site-packages/ipykernel_launcher.py:1: UserWarning: Boolean Series key will be reindexed to match DataFrame index.\n",
      "  \"\"\"Entry point for launching an IPython kernel.\n",
      "/Users/abreualberto91/anaconda3/envs/ironhack/lib/python3.7/site-packages/ipykernel_launcher.py:2: UserWarning: Boolean Series key will be reindexed to match DataFrame index.\n",
      "  \n"
     ]
    }
   ],
   "source": [
    "data_cholera_3 = data_3[data['cholera'] == 1]\n",
    "data_no_cholera_3 = data_3[data['cholera'] == 0]"
   ]
  },
  {
   "cell_type": "code",
   "execution_count": null,
   "metadata": {},
   "outputs": [],
   "source": []
  },
  {
   "cell_type": "markdown",
   "metadata": {},
   "source": [
    "#### Colesterol\n",
    "\n",
    "Z = mean colesterol with cholera - mean colesterol without cholera\n",
    "alpha = 0.05\n",
    "\n",
    "#H0: Mz = 0\n",
    "#Ha: Mz != 0 "
   ]
  },
  {
   "cell_type": "code",
   "execution_count": 149,
   "metadata": {},
   "outputs": [
    {
     "data": {
      "text/plain": [
       "Ttest_indResult(statistic=1.6124031820269276, pvalue=0.10795020237881542)"
      ]
     },
     "execution_count": 149,
     "metadata": {},
     "output_type": "execute_result"
    }
   ],
   "source": [
    "stats.ttest_ind(data_no_cholera_3['colestherol'], data_cholera_3['colestherol'], equal_var = False)"
   ]
  },
  {
   "cell_type": "markdown",
   "metadata": {},
   "source": [
    "## Summary\n",
    "\n",
    "1- Divide the data into two groups, one for people with cholera and without cholera.\n",
    "2- We wanted to see if there are differences between the means of the numerical variables among the two groups.\n",
    "3- This analysis was conducted using a independent t-test.\n",
    "\n",
    "1st analysis:\n",
    "\n",
    "**Blood presure:**\n",
    "\n",
    "We have statistical evidence to reject the null hypothesis and concluded that there are differences in the blood pressure mean between people with cholera and without.\n",
    "\n",
    "**Gastric acid:**\n",
    "\n",
    "We have statistical evidence to reject the null hypothesis and concluded that there are differences in the gastric acid mean between people with cholera and without.\n",
    "\n",
    "**Age:**\n",
    "\n",
    "We have statistical evidence to reject the null hypothesis and concluded that there are differences in the age mean between people with cholera and without.\n",
    "\n",
    "**Colestherol**\n",
    "\n",
    "We cannot reject the null hypothesis, there are no evidence to suggest that the means between the groups are different. \n",
    "\n"
   ]
  },
  {
   "cell_type": "code",
   "execution_count": null,
   "metadata": {},
   "outputs": [],
   "source": []
  },
  {
   "cell_type": "code",
   "execution_count": null,
   "metadata": {},
   "outputs": [],
   "source": []
  },
  {
   "cell_type": "code",
   "execution_count": null,
   "metadata": {},
   "outputs": [],
   "source": []
  },
  {
   "cell_type": "markdown",
   "metadata": {},
   "source": [
    "## - Is the gastric acid index correlated to feces consistency and vomit color?"
   ]
  },
  {
   "cell_type": "code",
   "execution_count": 123,
   "metadata": {},
   "outputs": [],
   "source": [
    "a = pd.get_dummies(data['sex'])\n",
    "b = pd.get_dummies(data['dehydration'])\n",
    "c = pd.get_dummies(data['seizures'])\n",
    "d = pd.get_dummies(data['vomit_color'])\n",
    "e = pd.get_dummies(data['blood_type_o'])\n",
    "f = pd.get_dummies(data['poo_consistency'])\n",
    "g = pd.get_dummies(data['exposure_type'])\n",
    "h = pd.get_dummies(data['fever'])"
   ]
  },
  {
   "cell_type": "code",
   "execution_count": 125,
   "metadata": {},
   "outputs": [],
   "source": [
    "d.columns = ['normal','abnormal', 'clear']\n",
    "f.columns = ['normal', 'watery', 'rice_water']"
   ]
  },
  {
   "cell_type": "markdown",
   "metadata": {},
   "source": [
    "## ANOVA"
   ]
  },
  {
   "cell_type": "markdown",
   "metadata": {},
   "source": [
    "H0: No difference between means, i.e. ?x1 = ?x2 = ?x3\n",
    "\n",
    "Ha: Difference between means exist somewhere, i.e. ?x1 ? ?x2 ? ?x3, or ?x1 = ?x2 ? ?x3, or ?x1 ? ?x2 = ?x3"
   ]
  },
  {
   "cell_type": "markdown",
   "metadata": {},
   "source": [
    "**ANOVA with Vomit**"
   ]
  },
  {
   "cell_type": "code",
   "execution_count": 135,
   "metadata": {},
   "outputs": [
    {
     "data": {
      "text/plain": [
       "F_onewayResult(statistic=3.431943313939471, pvalue=0.03359858629884708)"
      ]
     },
     "execution_count": 135,
     "metadata": {},
     "output_type": "execute_result"
    }
   ],
   "source": [
    "stats.f_oneway(data['gastric_acid'][data['vomit_color'] == 0],\n",
    "                data['gastric_acid'][data['vomit_color'] == 1],\n",
    "                data['gastric_acid'][data['vomit_color'] == 2])"
   ]
  },
  {
   "cell_type": "code",
   "execution_count": null,
   "metadata": {},
   "outputs": [],
   "source": [
    "#Vomit color is related to acid gastric index since p value is less than 5%"
   ]
  },
  {
   "cell_type": "code",
   "execution_count": null,
   "metadata": {},
   "outputs": [],
   "source": []
  },
  {
   "cell_type": "code",
   "execution_count": 139,
   "metadata": {},
   "outputs": [
    {
     "data": {
      "text/plain": [
       "F_onewayResult(statistic=2.3628984982445584, pvalue=0.12531577520945641)"
      ]
     },
     "execution_count": 139,
     "metadata": {},
     "output_type": "execute_result"
    }
   ],
   "source": [
    "stats.f_oneway(data['gastric_acid'][data['vomit_color'] == 0],\n",
    "                data['gastric_acid'][data['vomit_color'] == 1])"
   ]
  },
  {
   "cell_type": "markdown",
   "metadata": {},
   "source": [
    "**ANOVA with poo**"
   ]
  },
  {
   "cell_type": "code",
   "execution_count": 140,
   "metadata": {},
   "outputs": [
    {
     "data": {
      "text/plain": [
       "F_onewayResult(statistic=38.53032747103051, pvalue=1.2779256165395148e-15)"
      ]
     },
     "execution_count": 140,
     "metadata": {},
     "output_type": "execute_result"
    }
   ],
   "source": [
    "stats.f_oneway(data['gastric_acid'][data['poo_consistency'] == 0],\n",
    "                data['gastric_acid'][data['poo_consistency'] == 1],\n",
    "                data['gastric_acid'][data['poo_consistency'] == 2])"
   ]
  },
  {
   "cell_type": "code",
   "execution_count": 141,
   "metadata": {},
   "outputs": [
    {
     "data": {
      "text/plain": [
       "F_onewayResult(statistic=78.81090827672934, pvalue=8.370237839050176e-17)"
      ]
     },
     "execution_count": 141,
     "metadata": {},
     "output_type": "execute_result"
    }
   ],
   "source": [
    "stats.f_oneway(\n",
    "                data['gastric_acid'][data['poo_consistency'] == 1],\n",
    "                data['gastric_acid'][data['poo_consistency'] == 2])"
   ]
  },
  {
   "cell_type": "code",
   "execution_count": null,
   "metadata": {},
   "outputs": [],
   "source": []
  },
  {
   "cell_type": "markdown",
   "metadata": {},
   "source": [
    "### Summary Anova\n",
    "\n",
    "\n",
    "**Vomit color**\n",
    "\n",
    "We reject the null hypothesis and we have evidence to suggest that there are differences in the vomit color means and the gastric acid index but we cannot define where are those differences. \n",
    "\n",
    "\n",
    "**Vomit color**\n",
    "\n",
    "We reject the null hypothesis and we have evidence to suggest that there are differences in the vomit color means and the gastric acid index but we cannot define where are those differences. \n",
    "\n",
    "Note on vomit:\n",
    "\n",
    "When removing the observations with Rice Water, we could not reject the null hypothesis. \n",
    "\n",
    "\n",
    "**Poo consistencyt**\n",
    "\n",
    "We reject the null hypothesis and we have evidence to suggest that there are differences in the poo consistency means and the gastric acid index but we cannot define where are those differences. \n",
    "\n",
    "Note on poo:\n",
    "\n",
    "After removing the observations with Normal poo, the p-value was even more significant. \n",
    "\n",
    "\n",
    "\n",
    "\n"
   ]
  },
  {
   "cell_type": "markdown",
   "metadata": {},
   "source": [
    "## Post hoc testing"
   ]
  },
  {
   "cell_type": "markdown",
   "metadata": {},
   "source": [
    "### Multiple Linear Regresssion"
   ]
  },
  {
   "cell_type": "code",
   "execution_count": 114,
   "metadata": {},
   "outputs": [],
   "source": [
    "import statsmodels.api as sm"
   ]
  },
  {
   "cell_type": "code",
   "execution_count": 132,
   "metadata": {},
   "outputs": [],
   "source": [
    "y = data['gastric_acid']\n",
    "\n",
    "x = [\n",
    "    data['age'],\n",
    "    d['abnormal'],\n",
    "    d['clear'],\n",
    "    f['watery'],\n",
    "    f['rice_water']\n",
    "]\n",
    "\n",
    "def reg_m(y, x):\n",
    "    ones = np.ones(len(x[0]))\n",
    "    X = sm.add_constant(np.column_stack((x[0], ones)))\n",
    "    for ele in x[1:]:\n",
    "        X = sm.add_constant(np.column_stack((ele, X)))\n",
    "    results = sm.OLS(y, X).fit()\n",
    "    return results"
   ]
  },
  {
   "cell_type": "code",
   "execution_count": 133,
   "metadata": {},
   "outputs": [
    {
     "name": "stdout",
     "output_type": "stream",
     "text": [
      "                            OLS Regression Results                            \n",
      "==============================================================================\n",
      "Dep. Variable:           gastric_acid   R-squared:                       0.278\n",
      "Model:                            OLS   Adj. R-squared:                  0.266\n",
      "Method:                 Least Squares   F-statistic:                     22.88\n",
      "Date:                Thu, 01 Aug 2019   Prob (F-statistic):           2.00e-19\n",
      "Time:                        13:04:25   Log-Likelihood:                -1328.9\n",
      "No. Observations:                 303   AIC:                             2670.\n",
      "Df Residuals:                     297   BIC:                             2692.\n",
      "Df Model:                           5                                         \n",
      "Covariance Type:            nonrobust                                         \n",
      "==============================================================================\n",
      "                 coef    std err          t      P>|t|      [0.025      0.975]\n",
      "------------------------------------------------------------------------------\n",
      "x1            13.3657      4.638      2.881      0.004       4.237      22.494\n",
      "x2            -5.5801      4.602     -1.213      0.226     -14.636       3.476\n",
      "x3           -12.2133     10.015     -1.220      0.224     -31.922       7.495\n",
      "x4            -0.3352      2.314     -0.145      0.885      -4.889       4.219\n",
      "x5            -0.6168      0.117     -5.260      0.000      -0.848      -0.386\n",
      "const        179.7717      7.922     22.693      0.000     164.181     195.362\n",
      "==============================================================================\n",
      "Omnibus:                       23.215   Durbin-Watson:                   1.826\n",
      "Prob(Omnibus):                  0.000   Jarque-Bera (JB):               26.890\n",
      "Skew:                          -0.646   Prob(JB):                     1.45e-06\n",
      "Kurtosis:                       3.680   Cond. No.                         493.\n",
      "==============================================================================\n",
      "\n",
      "Warnings:\n",
      "[1] Standard Errors assume that the covariance matrix of the errors is correctly specified.\n"
     ]
    }
   ],
   "source": [
    "print(reg_m(y, x).summary())"
   ]
  },
  {
   "cell_type": "markdown",
   "metadata": {},
   "source": [
    "### Tukey Honestly Significant Difference"
   ]
  },
  {
   "cell_type": "markdown",
   "metadata": {},
   "source": [
    "##### With poo consistency"
   ]
  },
  {
   "cell_type": "code",
   "execution_count": 142,
   "metadata": {},
   "outputs": [
    {
     "name": "stdout",
     "output_type": "stream",
     "text": [
      " Multiple Comparison of Means - Tukey HSD, FWER=0.05 \n",
      "=====================================================\n",
      "group1 group2 meandiff p-adj   lower    upper  reject\n",
      "-----------------------------------------------------\n",
      "     0      1  -5.6119 0.4738 -16.9114  5.6876  False\n",
      "     0      2  15.6516 0.0035   4.3625 26.9407   True\n",
      "     1      2  21.2635  0.001  15.5126 27.0144   True\n",
      "-----------------------------------------------------\n"
     ]
    }
   ],
   "source": [
    "from statsmodels.stats.multicomp import pairwise_tukeyhsd\n",
    "from statsmodels.stats.multicomp import MultiComparison\n",
    "\n",
    "mc = MultiComparison(data['gastric_acid'], data['poo_consistency'])\n",
    "mc_results = mc.tukeyhsd()\n",
    "print(mc_results)"
   ]
  },
  {
   "cell_type": "markdown",
   "metadata": {},
   "source": [
    "##### With vomit color"
   ]
  },
  {
   "cell_type": "code",
   "execution_count": 143,
   "metadata": {
    "scrolled": true
   },
   "outputs": [
    {
     "name": "stdout",
     "output_type": "stream",
     "text": [
      " Multiple Comparison of Means - Tukey HSD, FWER=0.05 \n",
      "=====================================================\n",
      "group1 group2 meandiff p-adj   lower    upper  reject\n",
      "-----------------------------------------------------\n",
      "     0      1   4.0558 0.2728  -2.1359 10.2474  False\n",
      "     0      2 -22.1548 0.1337 -49.2787  4.9691  False\n",
      "     1      2 -26.2105 0.0606 -53.3226  0.9016  False\n",
      "-----------------------------------------------------\n"
     ]
    }
   ],
   "source": [
    "mc = MultiComparison(data['gastric_acid'], data['vomit_color'])\n",
    "mc_results = mc.tukeyhsd()\n",
    "print(mc_results)"
   ]
  },
  {
   "cell_type": "code",
   "execution_count": null,
   "metadata": {},
   "outputs": [],
   "source": []
  },
  {
   "cell_type": "code",
   "execution_count": null,
   "metadata": {},
   "outputs": [],
   "source": []
  },
  {
   "cell_type": "code",
   "execution_count": null,
   "metadata": {},
   "outputs": [],
   "source": []
  },
  {
   "cell_type": "code",
   "execution_count": null,
   "metadata": {},
   "outputs": [],
   "source": []
  }
 ],
 "metadata": {
  "kernelspec": {
   "display_name": "ironhack",
   "language": "python",
   "name": "ironhack"
  },
  "language_info": {
   "codemirror_mode": {
    "name": "ipython",
    "version": 3
   },
   "file_extension": ".py",
   "mimetype": "text/x-python",
   "name": "python",
   "nbconvert_exporter": "python",
   "pygments_lexer": "ipython3",
   "version": "3.7.3"
  }
 },
 "nbformat": 4,
 "nbformat_minor": 2
}
